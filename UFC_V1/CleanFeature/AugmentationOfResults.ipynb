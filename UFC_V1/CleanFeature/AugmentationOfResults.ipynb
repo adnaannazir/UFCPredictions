{
 "cells": [
  {
   "cell_type": "code",
   "execution_count": 1,
   "metadata": {},
   "outputs": [
    {
     "data": {
      "text/html": [
       "<div>\n",
       "<style scoped>\n",
       "    .dataframe tbody tr th:only-of-type {\n",
       "        vertical-align: middle;\n",
       "    }\n",
       "\n",
       "    .dataframe tbody tr th {\n",
       "        vertical-align: top;\n",
       "    }\n",
       "\n",
       "    .dataframe thead th {\n",
       "        text-align: right;\n",
       "    }\n",
       "</style>\n",
       "<table border=\"1\" class=\"dataframe\">\n",
       "  <thead>\n",
       "    <tr style=\"text-align: right;\">\n",
       "      <th></th>\n",
       "      <th>Fight</th>\n",
       "      <th>OUTCOME</th>\n",
       "    </tr>\n",
       "  </thead>\n",
       "  <tbody>\n",
       "    <tr>\n",
       "      <th>0</th>\n",
       "      <td>Derrick Lewis  vs. Rodrigo Nascimento</td>\n",
       "      <td>W/L</td>\n",
       "    </tr>\n",
       "    <tr>\n",
       "      <th>1</th>\n",
       "      <td>Joaquin Buckley  vs. Nursulton Ruziboev</td>\n",
       "      <td>W/L</td>\n",
       "    </tr>\n",
       "    <tr>\n",
       "      <th>2</th>\n",
       "      <td>Alonzo Menifield  vs. Carlos Ulberg</td>\n",
       "      <td>L/W</td>\n",
       "    </tr>\n",
       "    <tr>\n",
       "      <th>3</th>\n",
       "      <td>Diego Ferreira  vs. Mateusz Rebecki</td>\n",
       "      <td>W/L</td>\n",
       "    </tr>\n",
       "    <tr>\n",
       "      <th>4</th>\n",
       "      <td>Alex Caceres  vs. Sean Woodson</td>\n",
       "      <td>L/W</td>\n",
       "    </tr>\n",
       "  </tbody>\n",
       "</table>\n",
       "</div>"
      ],
      "text/plain": [
       "                                      Fight OUTCOME\n",
       "0    Derrick Lewis  vs. Rodrigo Nascimento      W/L\n",
       "1  Joaquin Buckley  vs. Nursulton Ruziboev      W/L\n",
       "2      Alonzo Menifield  vs. Carlos Ulberg      L/W\n",
       "3      Diego Ferreira  vs. Mateusz Rebecki      W/L\n",
       "4           Alex Caceres  vs. Sean Woodson      L/W"
      ]
     },
     "execution_count": 1,
     "metadata": {},
     "output_type": "execute_result"
    }
   ],
   "source": [
    "import pandas as pd\n",
    "results_path = 'Results.csv'\n",
    "results_data = pd.read_csv(results_path)\n",
    "\n",
    "results_data.head()\n"
   ]
  },
  {
   "cell_type": "code",
   "execution_count": 3,
   "metadata": {},
   "outputs": [
    {
     "data": {
      "text/html": [
       "<div>\n",
       "<style scoped>\n",
       "    .dataframe tbody tr th:only-of-type {\n",
       "        vertical-align: middle;\n",
       "    }\n",
       "\n",
       "    .dataframe tbody tr th {\n",
       "        vertical-align: top;\n",
       "    }\n",
       "\n",
       "    .dataframe thead th {\n",
       "        text-align: right;\n",
       "    }\n",
       "</style>\n",
       "<table border=\"1\" class=\"dataframe\">\n",
       "  <thead>\n",
       "    <tr style=\"text-align: right;\">\n",
       "      <th></th>\n",
       "      <th>Fight</th>\n",
       "      <th>OUTCOME</th>\n",
       "    </tr>\n",
       "  </thead>\n",
       "  <tbody>\n",
       "    <tr>\n",
       "      <th>0</th>\n",
       "      <td>Derrick Lewis  vs. Rodrigo Nascimento</td>\n",
       "      <td>W/L</td>\n",
       "    </tr>\n",
       "    <tr>\n",
       "      <th>1</th>\n",
       "      <td>Joaquin Buckley  vs. Nursulton Ruziboev</td>\n",
       "      <td>W/L</td>\n",
       "    </tr>\n",
       "    <tr>\n",
       "      <th>2</th>\n",
       "      <td>Alonzo Menifield  vs. Carlos Ulberg</td>\n",
       "      <td>L/W</td>\n",
       "    </tr>\n",
       "    <tr>\n",
       "      <th>3</th>\n",
       "      <td>Diego Ferreira  vs. Mateusz Rebecki</td>\n",
       "      <td>W/L</td>\n",
       "    </tr>\n",
       "    <tr>\n",
       "      <th>4</th>\n",
       "      <td>Alex Caceres  vs. Sean Woodson</td>\n",
       "      <td>L/W</td>\n",
       "    </tr>\n",
       "  </tbody>\n",
       "</table>\n",
       "</div>"
      ],
      "text/plain": [
       "                                      Fight OUTCOME\n",
       "0    Derrick Lewis  vs. Rodrigo Nascimento      W/L\n",
       "1  Joaquin Buckley  vs. Nursulton Ruziboev      W/L\n",
       "2      Alonzo Menifield  vs. Carlos Ulberg      L/W\n",
       "3      Diego Ferreira  vs. Mateusz Rebecki      W/L\n",
       "4           Alex Caceres  vs. Sean Woodson      L/W"
      ]
     },
     "execution_count": 3,
     "metadata": {},
     "output_type": "execute_result"
    }
   ],
   "source": [
    "# Split the 'Fight' column into two separate fighter names and reverse the order for augmentation\n",
    "split_fights = results_data['Fight'].str.split(' vs. ', expand=True)\n",
    "split_fights.columns = ['Fighter1', 'Fighter2']\n",
    "\n",
    "# Create a new DataFrame with reversed fights and outcomes\n",
    "reversed_fights = pd.DataFrame({\n",
    "    'Fight': split_fights['Fighter2'] + ' vs. ' + split_fights['Fighter1'],\n",
    "    'OUTCOME': results_data['OUTCOME'].replace({'W/L': 'L/W', 'L/W': 'W/L'})\n",
    "})\n",
    "\n",
    "# Concatenate the original and reversed data\n",
    "augmented_results = pd.concat([results_data, reversed_fights], ignore_index=True)\n",
    "\n",
    "# Display the first few rows of the augmented dataset\n",
    "augmented_results.head()\n"
   ]
  },
  {
   "cell_type": "code",
   "execution_count": 16,
   "metadata": {},
   "outputs": [],
   "source": [
    "# Filter the augmented results to find entries where 'Fight' contains 'Derrick Lewis'\n",
    "derrick_lewis_fights = augmented_results[augmented_results['Fight'].str.contains('Derrick Lewis')]\n",
    "\n",
    "# Print the first entry and the entry at index 7632 from the filtered list, if present\n",
    "first_entry = derrick_lewis_fights.iloc[0]\n",
    "augmented_entry = derrick_lewis_fights[derrick_lewis_fights.index == 7632]"
   ]
  },
  {
   "cell_type": "code",
   "execution_count": 17,
   "metadata": {},
   "outputs": [
    {
     "data": {
      "text/plain": [
       "Fight      Derrick Lewis  vs. Rodrigo Nascimento \n",
       "OUTCOME                                       W/L\n",
       "Name: 0, dtype: object"
      ]
     },
     "execution_count": 17,
     "metadata": {},
     "output_type": "execute_result"
    }
   ],
   "source": [
    "first_entry"
   ]
  },
  {
   "cell_type": "code",
   "execution_count": 18,
   "metadata": {},
   "outputs": [
    {
     "data": {
      "text/html": [
       "<div>\n",
       "<style scoped>\n",
       "    .dataframe tbody tr th:only-of-type {\n",
       "        vertical-align: middle;\n",
       "    }\n",
       "\n",
       "    .dataframe tbody tr th {\n",
       "        vertical-align: top;\n",
       "    }\n",
       "\n",
       "    .dataframe thead th {\n",
       "        text-align: right;\n",
       "    }\n",
       "</style>\n",
       "<table border=\"1\" class=\"dataframe\">\n",
       "  <thead>\n",
       "    <tr style=\"text-align: right;\">\n",
       "      <th></th>\n",
       "      <th>Fight</th>\n",
       "      <th>OUTCOME</th>\n",
       "    </tr>\n",
       "  </thead>\n",
       "  <tbody>\n",
       "    <tr>\n",
       "      <th>7632</th>\n",
       "      <td>Rodrigo Nascimento  vs. Derrick Lewis</td>\n",
       "      <td>L/W</td>\n",
       "    </tr>\n",
       "  </tbody>\n",
       "</table>\n",
       "</div>"
      ],
      "text/plain": [
       "                                       Fight OUTCOME\n",
       "7632  Rodrigo Nascimento  vs. Derrick Lewis      L/W"
      ]
     },
     "execution_count": 18,
     "metadata": {},
     "output_type": "execute_result"
    }
   ],
   "source": [
    "augmented_entry\n"
   ]
  },
  {
   "cell_type": "code",
   "execution_count": 19,
   "metadata": {},
   "outputs": [],
   "source": [
    "augmented_results.to_csv(\"Augmented_Results.csv\")"
   ]
  },
  {
   "cell_type": "code",
   "execution_count": null,
   "metadata": {},
   "outputs": [],
   "source": []
  }
 ],
 "metadata": {
  "kernelspec": {
   "display_name": "base",
   "language": "python",
   "name": "python3"
  },
  "language_info": {
   "codemirror_mode": {
    "name": "ipython",
    "version": 3
   },
   "file_extension": ".py",
   "mimetype": "text/x-python",
   "name": "python",
   "nbconvert_exporter": "python",
   "pygments_lexer": "ipython3",
   "version": "3.11.5"
  }
 },
 "nbformat": 4,
 "nbformat_minor": 2
}
