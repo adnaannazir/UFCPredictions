{
 "cells": [
  {
   "cell_type": "code",
   "execution_count": 5,
   "metadata": {},
   "outputs": [
    {
     "name": "stderr",
     "output_type": "stream",
     "text": [
      "c:\\Users\\msi\\anaconda3\\Lib\\site-packages\\sklearn\\preprocessing\\_encoders.py:972: FutureWarning: `sparse` was renamed to `sparse_output` in version 1.2 and will be removed in 1.4. `sparse_output` is ignored unless you leave `sparse` to its default value.\n",
      "  warnings.warn(\n"
     ]
    }
   ],
   "source": [
    "import pandas as pd\n",
    "from sklearn.preprocessing import OneHotEncoder\n",
    "\n",
    "# Load the dataset\n",
    "data_path = 'CleanData.csv'\n",
    "data = pd.read_csv(data_path)\n",
    "\n",
    "# Remove the 'Unnamed: 0' column\n",
    "data.drop('Unnamed: 0', axis=1, inplace=True)\n",
    "\n",
    "# Convert 'Last Fight Date' to datetime format\n",
    "data['Last Fight Date'] = pd.to_datetime(data['Last Fight Date'])\n",
    "\n",
    "# Standardize 'Height' values (assumes the height format needs conversion from '511.0' to '71.0' for inches)\n",
    "def convert_height_to_inches(height):\n",
    "    feet = int(height / 100)\n",
    "    inches = height % 100\n",
    "    return feet * 12 + inches\n",
    "\n",
    "data['Height'] = data['Height'].apply(convert_height_to_inches)\n",
    "\n",
    "# One-hot encode 'Weight Class'\n",
    "encoder = OneHotEncoder(sparse=False)\n",
    "weight_class_encoded = encoder.fit_transform(data[['Weight Class']])\n",
    "weight_class_encoded_df = pd.DataFrame(weight_class_encoded, columns=encoder.get_feature_names_out(['Weight Class']))\n",
    "\n",
    "# Drop the original 'Weight Class' column and concatenate the new one-hot encoded columns\n",
    "data.drop('Weight Class', axis=1, inplace=True)\n",
    "data = pd.concat([data, weight_class_encoded_df], axis=1)\n",
    "\n",
    "# Feature Engineering: Calculate days since the last fight\n",
    "data['Days Since Last Fight'] = (pd.Timestamp.now().normalize() - data['Last Fight Date']).dt.days\n",
    "\n"
   ]
  },
  {
   "cell_type": "code",
   "execution_count": 10,
   "metadata": {},
   "outputs": [],
   "source": [
    "results = pd.read_csv('Results.csv')"
   ]
  },
  {
   "cell_type": "code",
   "execution_count": null,
   "metadata": {},
   "outputs": [],
   "source": []
  }
 ],
 "metadata": {
  "kernelspec": {
   "display_name": "base",
   "language": "python",
   "name": "python3"
  },
  "language_info": {
   "codemirror_mode": {
    "name": "ipython",
    "version": 3
   },
   "file_extension": ".py",
   "mimetype": "text/x-python",
   "name": "python",
   "nbconvert_exporter": "python",
   "pygments_lexer": "ipython3",
   "version": "3.11.5"
  }
 },
 "nbformat": 4,
 "nbformat_minor": 2
}
