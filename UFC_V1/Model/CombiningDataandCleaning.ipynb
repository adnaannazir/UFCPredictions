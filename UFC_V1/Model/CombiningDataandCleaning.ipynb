{
 "cells": [
  {
   "cell_type": "code",
   "execution_count": 1,
   "metadata": {},
   "outputs": [],
   "source": [
    "import pandas as pd\n",
    "import numpy as np\n",
    "\n",
    "# Load the CSV files\n",
    "clean_data_path = \"CleanData2.csv\"\n",
    "augmented_results_path = \"Augmented_Results.csv\"\n",
    "\n",
    "clean_data = pd.read_csv(clean_data_path)\n",
    "augmented_results = pd.read_csv(augmented_results_path)\n",
    "\n",
    "# Extract and clean fighter names from both datasets\n",
    "augmented_results['Fighter1'] = augmented_results['Fight'].str.split(' vs. ').str[0].str.strip()\n",
    "augmented_results['Fighter2'] = augmented_results['Fight'].str.split(' vs. ').str[1].str.strip()\n",
    "clean_data['Fighter Name'] = clean_data['Fighter Name'].str.strip()\n",
    "\n",
    "# Find unique fighter names in both datasets\n",
    "unique_fighters_augmented = set(np.concatenate((augmented_results['Fighter1'].unique(), augmented_results['Fighter2'].unique())))\n",
    "unique_fighters_clean = set(clean_data['Fighter Name'].unique())\n",
    "\n",
    "# Determine the intersection of fighter names present in both datasets\n",
    "fighters_found = unique_fighters_clean.intersection(unique_fighters_augmented)\n",
    "\n",
    "# Filter the augmented results to include only those fighters who are present in the clean data set\n",
    "filtered_augmented_results = augmented_results[\n",
    "    (augmented_results['Fighter1'].isin(fighters_found)) & (augmented_results['Fighter2'].isin(fighters_found))\n",
    "]\n",
    "\n",
    "# Save the filtered data to a new CSV file\n",
    "\n",
    "filtered_augmented_results.to_csv(\"FinalAugmentedResults.csv\", index=False)\n"
   ]
  },
  {
   "cell_type": "code",
   "execution_count": 2,
   "metadata": {},
   "outputs": [
    {
     "data": {
      "text/plain": [
       "54"
      ]
     },
     "execution_count": 2,
     "metadata": {},
     "output_type": "execute_result"
    }
   ],
   "source": [
    "len(filtered_augmented_results)"
   ]
  },
  {
   "cell_type": "code",
   "execution_count": 3,
   "metadata": {},
   "outputs": [
    {
     "data": {
      "text/html": [
       "<div>\n",
       "<style scoped>\n",
       "    .dataframe tbody tr th:only-of-type {\n",
       "        vertical-align: middle;\n",
       "    }\n",
       "\n",
       "    .dataframe tbody tr th {\n",
       "        vertical-align: top;\n",
       "    }\n",
       "\n",
       "    .dataframe thead th {\n",
       "        text-align: right;\n",
       "    }\n",
       "</style>\n",
       "<table border=\"1\" class=\"dataframe\">\n",
       "  <thead>\n",
       "    <tr style=\"text-align: right;\">\n",
       "      <th></th>\n",
       "      <th>Fight</th>\n",
       "      <th>OUTCOME</th>\n",
       "      <th>Fighter1</th>\n",
       "      <th>Fighter2</th>\n",
       "    </tr>\n",
       "  </thead>\n",
       "  <tbody>\n",
       "    <tr>\n",
       "      <th>0</th>\n",
       "      <td>Brad Katona  vs. Garrett Armfield</td>\n",
       "      <td>L/W</td>\n",
       "      <td>Brad Katona</td>\n",
       "      <td>Garrett Armfield</td>\n",
       "    </tr>\n",
       "    <tr>\n",
       "      <th>1</th>\n",
       "      <td>Tatsuro Taira  vs. Carlos Hernandez</td>\n",
       "      <td>W/L</td>\n",
       "      <td>Tatsuro Taira</td>\n",
       "      <td>Carlos Hernandez</td>\n",
       "    </tr>\n",
       "    <tr>\n",
       "      <th>2</th>\n",
       "      <td>Punahele Soriano  vs. Dustin Stoltzfus</td>\n",
       "      <td>L/W</td>\n",
       "      <td>Punahele Soriano</td>\n",
       "      <td>Dustin Stoltzfus</td>\n",
       "    </tr>\n",
       "    <tr>\n",
       "      <th>3</th>\n",
       "      <td>Angela Hill  vs. Denise Gomes</td>\n",
       "      <td>W/L</td>\n",
       "      <td>Angela Hill</td>\n",
       "      <td>Denise Gomes</td>\n",
       "    </tr>\n",
       "    <tr>\n",
       "      <th>4</th>\n",
       "      <td>Sean Strickland  vs. Abus Magomedov</td>\n",
       "      <td>W/L</td>\n",
       "      <td>Sean Strickland</td>\n",
       "      <td>Abus Magomedov</td>\n",
       "    </tr>\n",
       "  </tbody>\n",
       "</table>\n",
       "</div>"
      ],
      "text/plain": [
       "                                     Fight OUTCOME          Fighter1  \\\n",
       "0       Brad Katona  vs. Garrett Armfield      L/W       Brad Katona   \n",
       "1     Tatsuro Taira  vs. Carlos Hernandez      W/L     Tatsuro Taira   \n",
       "2  Punahele Soriano  vs. Dustin Stoltzfus      L/W  Punahele Soriano   \n",
       "3           Angela Hill  vs. Denise Gomes      W/L       Angela Hill   \n",
       "4     Sean Strickland  vs. Abus Magomedov      W/L   Sean Strickland   \n",
       "\n",
       "           Fighter2  \n",
       "0  Garrett Armfield  \n",
       "1  Carlos Hernandez  \n",
       "2  Dustin Stoltzfus  \n",
       "3      Denise Gomes  \n",
       "4    Abus Magomedov  "
      ]
     },
     "execution_count": 3,
     "metadata": {},
     "output_type": "execute_result"
    }
   ],
   "source": [
    "import pandas as pd\n",
    "\n",
    "# Load the dataset\n",
    "file_path = 'FinalAugmentedResults.csv'\n",
    "df = pd.read_csv(file_path)\n",
    "\n",
    "df.drop('Unnamed: 0', axis=1, inplace=True)\n",
    "\n",
    "# Rename columns for clarity\n",
    "df.columns = ['Fight', 'OUTCOME', 'Fighter1', 'Fighter2']\n",
    "\n",
    "# Create a new DataFrame for the reversed matches\n",
    "reverse_df = df.copy()\n",
    "reverse_df['Fighter1'], reverse_df['Fighter2'] = df['Fighter2'], df['Fighter1']\n",
    "reverse_df['OUTCOME'] = df['OUTCOME'].apply(lambda x: 'L/W' if x == 'W/L' else 'W/L')\n",
    "\n",
    "# Combine the original and reversed DataFrames\n",
    "augmented_df = pd.concat([df, reverse_df], ignore_index=True)\n",
    "\n",
    "# Save the augmented dataset\n",
    "augmented_file_path = 'Augmented_FinalAugmentedResults.csv'\n",
    "augmented_df.to_csv(augmented_file_path, index=False)\n",
    "\n",
    "augmented_df.head()\n"
   ]
  },
  {
   "cell_type": "code",
   "execution_count": 4,
   "metadata": {},
   "outputs": [
    {
     "data": {
      "text/plain": [
       "108"
      ]
     },
     "execution_count": 4,
     "metadata": {},
     "output_type": "execute_result"
    }
   ],
   "source": [
    "len(augmented_df)"
   ]
  },
  {
   "cell_type": "code",
   "execution_count": 5,
   "metadata": {},
   "outputs": [],
   "source": [
    "if 'Fighters' in augmented_df.columns:\n",
    "    fighters = augmented_df['Fighters'].str.split(' vs. ', expand=True)\n",
    "    augmented_df['Fighter1'] = fighters[0]\n",
    "    augmented_df['Fighter2'] = fighters[1]\n",
    "    augmented_df.drop('Fighters', axis=1, inplace=True)  # Drop the original combined column if no longer needed\n"
   ]
  },
  {
   "cell_type": "code",
   "execution_count": 6,
   "metadata": {},
   "outputs": [
    {
     "data": {
      "text/html": [
       "<div>\n",
       "<style scoped>\n",
       "    .dataframe tbody tr th:only-of-type {\n",
       "        vertical-align: middle;\n",
       "    }\n",
       "\n",
       "    .dataframe tbody tr th {\n",
       "        vertical-align: top;\n",
       "    }\n",
       "\n",
       "    .dataframe thead th {\n",
       "        text-align: right;\n",
       "    }\n",
       "</style>\n",
       "<table border=\"1\" class=\"dataframe\">\n",
       "  <thead>\n",
       "    <tr style=\"text-align: right;\">\n",
       "      <th></th>\n",
       "      <th>Fight</th>\n",
       "      <th>OUTCOME</th>\n",
       "      <th>Fighter1</th>\n",
       "      <th>Fighter2</th>\n",
       "    </tr>\n",
       "  </thead>\n",
       "  <tbody>\n",
       "    <tr>\n",
       "      <th>0</th>\n",
       "      <td>Brad Katona  vs. Garrett Armfield</td>\n",
       "      <td>L/W</td>\n",
       "      <td>Brad Katona</td>\n",
       "      <td>Garrett Armfield</td>\n",
       "    </tr>\n",
       "    <tr>\n",
       "      <th>1</th>\n",
       "      <td>Tatsuro Taira  vs. Carlos Hernandez</td>\n",
       "      <td>W/L</td>\n",
       "      <td>Tatsuro Taira</td>\n",
       "      <td>Carlos Hernandez</td>\n",
       "    </tr>\n",
       "    <tr>\n",
       "      <th>2</th>\n",
       "      <td>Punahele Soriano  vs. Dustin Stoltzfus</td>\n",
       "      <td>L/W</td>\n",
       "      <td>Punahele Soriano</td>\n",
       "      <td>Dustin Stoltzfus</td>\n",
       "    </tr>\n",
       "    <tr>\n",
       "      <th>3</th>\n",
       "      <td>Angela Hill  vs. Denise Gomes</td>\n",
       "      <td>W/L</td>\n",
       "      <td>Angela Hill</td>\n",
       "      <td>Denise Gomes</td>\n",
       "    </tr>\n",
       "    <tr>\n",
       "      <th>4</th>\n",
       "      <td>Sean Strickland  vs. Abus Magomedov</td>\n",
       "      <td>W/L</td>\n",
       "      <td>Sean Strickland</td>\n",
       "      <td>Abus Magomedov</td>\n",
       "    </tr>\n",
       "    <tr>\n",
       "      <th>...</th>\n",
       "      <td>...</td>\n",
       "      <td>...</td>\n",
       "      <td>...</td>\n",
       "      <td>...</td>\n",
       "    </tr>\n",
       "    <tr>\n",
       "      <th>103</th>\n",
       "      <td>Gillian Robertson  vs. Mayra Bueno Silva</td>\n",
       "      <td>W/L</td>\n",
       "      <td>Mayra Bueno Silva</td>\n",
       "      <td>Gillian Robertson</td>\n",
       "    </tr>\n",
       "    <tr>\n",
       "      <th>104</th>\n",
       "      <td>Sean Strickland  vs. Elizeu Zaleski dos Santos</td>\n",
       "      <td>W/L</td>\n",
       "      <td>Elizeu Zaleski dos Santos</td>\n",
       "      <td>Sean Strickland</td>\n",
       "    </tr>\n",
       "    <tr>\n",
       "      <th>105</th>\n",
       "      <td>Mickey Gall  vs. Randy Brown</td>\n",
       "      <td>W/L</td>\n",
       "      <td>Randy Brown</td>\n",
       "      <td>Mickey Gall</td>\n",
       "    </tr>\n",
       "    <tr>\n",
       "      <th>106</th>\n",
       "      <td>Conor McGregor  vs. Dustin Poirier</td>\n",
       "      <td>L/W</td>\n",
       "      <td>Dustin Poirier</td>\n",
       "      <td>Conor McGregor</td>\n",
       "    </tr>\n",
       "    <tr>\n",
       "      <th>107</th>\n",
       "      <td>Dustin Poirier  vs. Cub Swanson</td>\n",
       "      <td>W/L</td>\n",
       "      <td>Cub Swanson</td>\n",
       "      <td>Dustin Poirier</td>\n",
       "    </tr>\n",
       "  </tbody>\n",
       "</table>\n",
       "<p>108 rows × 4 columns</p>\n",
       "</div>"
      ],
      "text/plain": [
       "                                               Fight OUTCOME  \\\n",
       "0                 Brad Katona  vs. Garrett Armfield      L/W   \n",
       "1               Tatsuro Taira  vs. Carlos Hernandez      W/L   \n",
       "2            Punahele Soriano  vs. Dustin Stoltzfus      L/W   \n",
       "3                     Angela Hill  vs. Denise Gomes      W/L   \n",
       "4               Sean Strickland  vs. Abus Magomedov      W/L   \n",
       "..                                               ...     ...   \n",
       "103        Gillian Robertson  vs. Mayra Bueno Silva      W/L   \n",
       "104  Sean Strickland  vs. Elizeu Zaleski dos Santos      W/L   \n",
       "105                    Mickey Gall  vs. Randy Brown      W/L   \n",
       "106              Conor McGregor  vs. Dustin Poirier      L/W   \n",
       "107                 Dustin Poirier  vs. Cub Swanson      W/L   \n",
       "\n",
       "                      Fighter1           Fighter2  \n",
       "0                  Brad Katona   Garrett Armfield  \n",
       "1                Tatsuro Taira   Carlos Hernandez  \n",
       "2             Punahele Soriano   Dustin Stoltzfus  \n",
       "3                  Angela Hill       Denise Gomes  \n",
       "4              Sean Strickland     Abus Magomedov  \n",
       "..                         ...                ...  \n",
       "103          Mayra Bueno Silva  Gillian Robertson  \n",
       "104  Elizeu Zaleski dos Santos    Sean Strickland  \n",
       "105                Randy Brown        Mickey Gall  \n",
       "106             Dustin Poirier     Conor McGregor  \n",
       "107                Cub Swanson     Dustin Poirier  \n",
       "\n",
       "[108 rows x 4 columns]"
      ]
     },
     "execution_count": 6,
     "metadata": {},
     "output_type": "execute_result"
    }
   ],
   "source": [
    "augmented_df"
   ]
  },
  {
   "cell_type": "code",
   "execution_count": 7,
   "metadata": {},
   "outputs": [],
   "source": [
    "augmented_df.drop('Fight', axis=1, inplace=True)"
   ]
  },
  {
   "cell_type": "code",
   "execution_count": null,
   "metadata": {},
   "outputs": [],
   "source": []
  },
  {
   "cell_type": "code",
   "execution_count": 8,
   "metadata": {},
   "outputs": [],
   "source": [
    "augmented_df.to_csv((\"Augmented_Complete_Results.csv\"))"
   ]
  },
  {
   "cell_type": "code",
   "execution_count": 9,
   "metadata": {},
   "outputs": [
    {
     "data": {
      "text/plain": [
       "OUTCOME     0\n",
       "Fighter1    0\n",
       "Fighter2    0\n",
       "dtype: int64"
      ]
     },
     "execution_count": 9,
     "metadata": {},
     "output_type": "execute_result"
    }
   ],
   "source": [
    "augmented_df.isnull().sum()"
   ]
  },
  {
   "cell_type": "code",
   "execution_count": null,
   "metadata": {},
   "outputs": [],
   "source": []
  }
 ],
 "metadata": {
  "kernelspec": {
   "display_name": "base",
   "language": "python",
   "name": "python3"
  },
  "language_info": {
   "codemirror_mode": {
    "name": "ipython",
    "version": 3
   },
   "file_extension": ".py",
   "mimetype": "text/x-python",
   "name": "python",
   "nbconvert_exporter": "python",
   "pygments_lexer": "ipython3",
   "version": "3.11.5"
  }
 },
 "nbformat": 4,
 "nbformat_minor": 2
}
