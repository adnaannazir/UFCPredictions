{
 "cells": [
  {
   "cell_type": "code",
   "execution_count": 1,
   "metadata": {},
   "outputs": [
    {
     "name": "stdout",
     "output_type": "stream",
     "text": [
      "random_forest accuracy: 0.3636\n",
      "logistic_regression accuracy: 0.5455\n",
      "gaussian_nb accuracy: 0.5455\n",
      "mlp_classifier accuracy: 0.3636\n",
      "Blended Model Accuracy: 0.6364\n"
     ]
    },
    {
     "name": "stderr",
     "output_type": "stream",
     "text": [
      "c:\\Users\\msi\\anaconda3\\Lib\\site-packages\\sklearn\\linear_model\\_logistic.py:460: ConvergenceWarning: lbfgs failed to converge (status=1):\n",
      "STOP: TOTAL NO. of ITERATIONS REACHED LIMIT.\n",
      "\n",
      "Increase the number of iterations (max_iter) or scale the data as shown in:\n",
      "    https://scikit-learn.org/stable/modules/preprocessing.html\n",
      "Please also refer to the documentation for alternative solver options:\n",
      "    https://scikit-learn.org/stable/modules/linear_model.html#logistic-regression\n",
      "  n_iter_i = _check_optimize_result(\n"
     ]
    }
   ],
   "source": [
    "import pandas as pd\n",
    "import numpy as np\n",
    "from sklearn.model_selection import train_test_split\n",
    "from sklearn.preprocessing import StandardScaler, PolynomialFeatures, LabelEncoder\n",
    "from sklearn.ensemble import RandomForestClassifier, StackingClassifier\n",
    "from sklearn.linear_model import LogisticRegression\n",
    "from sklearn.svm import SVC\n",
    "from sklearn.naive_bayes import GaussianNB\n",
    "from sklearn.neural_network import MLPClassifier\n",
    "from sklearn.metrics import accuracy_score\n",
    "\n",
    "# Load the data\n",
    "clean_data = pd.read_csv('CleanData2.csv')\n",
    "augmented_results = pd.read_csv('FinalDataSavedTrial.csv')\n",
    "\n",
    "# Preprocess and merge data\n",
    "augmented_results = augmented_results[augmented_results['OUTCOME'] != 'D/D']  # Remove 'D/D' outcomes\n",
    "merged_data_f1 = augmented_results.merge(clean_data, left_on='Fighter1', right_on='Fighter Name')\n",
    "merged_data = merged_data_f1.merge(clean_data, left_on='Fighter2', right_on='Fighter Name', suffixes=('_1', '_2'))\n",
    "\n",
    "# Define features for the model\n",
    "features = [\n",
    "    'Age', 'Height', 'Reach', 'Sig. Strikes Landed/min', 'Striking Accuracy (%)', \n",
    "    'Sig. Strikes Absorbed/min', 'Striking Defense (%)', 'Takedown Avg/15min', \n",
    "    'Takedown Accuracy (%)', 'Takedown Defense (%)', 'Sub Attempt Avg/15min'\n",
    "]\n",
    "selected_features = [f\"{feat}_1\" for feat in features] + [f\"{feat}_2\" for feat in features]\n",
    "\n",
    "# Prepare dataset for training\n",
    "X = merged_data[selected_features]\n",
    "y = merged_data['OUTCOME']\n",
    "X_train, X_test, y_train, y_test = train_test_split(X, y, test_size=0.2, random_state=42)\n",
    "\n",
    "# Encode target labels\n",
    "label_encoder = LabelEncoder()\n",
    "y_train_encoded = label_encoder.fit_transform(y_train)\n",
    "y_test_encoded = label_encoder.transform(y_test)\n",
    "\n",
    "# Apply polynomial feature transformation\n",
    "poly = PolynomialFeatures(degree=2, interaction_only=False, include_bias=False)\n",
    "X_train_poly = poly.fit_transform(X_train)\n",
    "X_test_poly = poly.transform(X_test)\n",
    "\n",
    "# Define and fit models\n",
    "models = {\n",
    "    'random_forest': RandomForestClassifier(n_estimators=300, random_state=42),\n",
    "    'logistic_regression': LogisticRegression(),\n",
    "    'gaussian_nb': GaussianNB(),\n",
    "    'mlp_classifier': MLPClassifier(max_iter=300, random_state=42)\n",
    "}\n",
    "\n",
    "# Train models and store predictions\n",
    "models_encoded_predictions = {}\n",
    "for name, model in models.items():\n",
    "    model.fit(X_train_poly, y_train_encoded)\n",
    "    pred_encoded = model.predict(X_test_poly)\n",
    "    models_encoded_predictions[name] = pred_encoded\n",
    "    print(f\"{name} accuracy: {accuracy_score(y_test_encoded, pred_encoded):.4f}\")\n",
    "\n",
    "# Blending predictions using weighted averages\n",
    "weights = {\n",
    "    'random_forest': 0.3,\n",
    "    'logistic_regression': 0.25,\n",
    "    'gaussian_nb': 0.2,\n",
    "    'mlp_classifier': 0.25\n",
    "}\n",
    "\n",
    "# Calculate blended accuracy\n",
    "final_encoded_prediction = np.zeros_like(list(models_encoded_predictions.values())[0], dtype=float)\n",
    "for name, weight in weights.items():\n",
    "    final_encoded_prediction += weight * (models_encoded_predictions[name] == y_test_encoded).astype(int)\n",
    "final_encoded_prediction = np.where(final_encoded_prediction / sum(weights.values()) >= 0.5, 1, 0)\n",
    "blended_encoded_accuracy = accuracy_score(y_test_encoded, final_encoded_prediction)\n",
    "print(f\"Blended Model Accuracy: {blended_encoded_accuracy:.4f}\")\n"
   ]
  },
  {
   "cell_type": "code",
   "execution_count": 3,
   "metadata": {},
   "outputs": [
    {
     "name": "stdout",
     "output_type": "stream",
     "text": [
      "Best Accuracy: 0.7272727272727273\n"
     ]
    }
   ],
   "source": [
    "import pandas as pd\n",
    "import numpy as np\n",
    "from sklearn.model_selection import train_test_split, GridSearchCV\n",
    "from sklearn.preprocessing import StandardScaler\n",
    "from xgboost import XGBClassifier\n",
    "from sklearn.metrics import accuracy_score\n",
    "\n",
    "# Load the data\n",
    "clean_data = pd.read_csv('CleanData2.csv')\n",
    "augmented_results = pd.read_csv('FinalDataSavedTrial.csv')\n",
    "\n",
    "# Feature Engineering: Adding difference-based features\n",
    "augmented_results = augmented_results.merge(clean_data.add_suffix('_1'), left_on='Fighter1', right_on='Fighter Name_1')\n",
    "augmented_results = augmented_results.merge(clean_data.add_suffix('_2'), left_on='Fighter2', right_on='Fighter Name_2')\n",
    "\n",
    "# Example of a new feature: Age difference between fighters\n",
    "augmented_results['age_difference'] = augmented_results['Age_1'] - augmented_results['Age_2']\n",
    "\n",
    "# Define features and labels\n",
    "features = ['age_difference', 'Height_1', 'Height_2', 'Reach_1', 'Reach_2', 'Sig. Strikes Landed/min_1', 'Sig. Strikes Landed/min_2']\n",
    "X = augmented_results[features]\n",
    "y = augmented_results['OUTCOME'].apply(lambda x: 1 if x.split('/')[0] == 'W' else 0)\n",
    "\n",
    "# Data scaling\n",
    "scaler = StandardScaler()\n",
    "X_scaled = scaler.fit_transform(X)\n",
    "\n",
    "# Train-test split\n",
    "X_train, X_test, y_train, y_test = train_test_split(X_scaled, y, test_size=0.2, random_state=42)\n",
    "\n",
    "# Model: XGBoost\n",
    "xgb = XGBClassifier(use_label_encoder=False, eval_metric='mlogloss')\n",
    "xgb.fit(X_train, y_train)\n",
    "predictions = xgb.predict(X_test)\n",
    "\n",
    "# Accuracy\n",
    "accuracy = accuracy_score(y_test, predictions)\n",
    "\n",
    "# Hyperparameter Tuning\n",
    "param_grid = {\n",
    "    'n_estimators': [100, 200],\n",
    "    'learning_rate': [0.01, 0.1, 0.2],\n",
    "    'max_depth': [3, 5, 7]\n",
    "}\n",
    "grid_search = GridSearchCV(XGBClassifier(use_label_encoder=False, eval_metric='mlogloss'), param_grid, cv=5)\n",
    "grid_search.fit(X_train, y_train)\n",
    "best_model = grid_search.best_estimator_\n",
    "best_accuracy = accuracy_score(y_test, best_model.predict(X_test))\n",
    "print(\"Best Accuracy:\", best_accuracy)\n"
   ]
  },
  {
   "cell_type": "code",
   "execution_count": 3,
   "metadata": {},
   "outputs": [
    {
     "data": {
      "text/plain": [
       "['scaler.joblib']"
      ]
     },
     "execution_count": 3,
     "metadata": {},
     "output_type": "execute_result"
    }
   ],
   "source": [
    "import joblib\n",
    "joblib.dump(xgb, 'xgb_fight_model.joblib')\n",
    "joblib.dump(scaler, 'scaler.joblib')"
   ]
  },
  {
   "cell_type": "code",
   "execution_count": null,
   "metadata": {},
   "outputs": [],
   "source": []
  }
 ],
 "metadata": {
  "kernelspec": {
   "display_name": "base",
   "language": "python",
   "name": "python3"
  },
  "language_info": {
   "codemirror_mode": {
    "name": "ipython",
    "version": 3
   },
   "file_extension": ".py",
   "mimetype": "text/x-python",
   "name": "python",
   "nbconvert_exporter": "python",
   "pygments_lexer": "ipython3",
   "version": "3.11.5"
  }
 },
 "nbformat": 4,
 "nbformat_minor": 2
}
